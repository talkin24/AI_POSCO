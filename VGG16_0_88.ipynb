{
  "nbformat": 4,
  "nbformat_minor": 0,
  "metadata": {
    "colab": {
      "name": "VGG16_0.88",
      "provenance": [],
      "collapsed_sections": [],
      "machine_shape": "hm",
      "authorship_tag": "ABX9TyMdciARJaC89C1Zfq+7rIqh",
      "include_colab_link": true
    },
    "kernelspec": {
      "name": "python3",
      "display_name": "Python 3"
    },
    "accelerator": "GPU"
  },
  "cells": [
    {
      "cell_type": "markdown",
      "metadata": {
        "id": "view-in-github",
        "colab_type": "text"
      },
      "source": [
        "<a href=\"https://colab.research.google.com/github/talkin24/AI_POSCO/blob/master/VGG16_0_88.ipynb\" target=\"_parent\"><img src=\"https://colab.research.google.com/assets/colab-badge.svg\" alt=\"Open In Colab\"/></a>"
      ]
    },
    {
      "cell_type": "code",
      "metadata": {
        "id": "iw35NWVoJ8CO",
        "colab_type": "code",
        "outputId": "78e71b23-558a-4501-bc8e-82526f3acaa0",
        "colab": {
          "base_uri": "https://localhost:8080/",
          "height": 1000
        }
      },
      "source": [
        "import torch\n",
        "import torch.nn as nn\n",
        "import torch.optim as optim\n",
        "import torch.nn.init as init\n",
        "import torchvision.datasets as dataset # for loading dataset (mnist)\n",
        "import torchvision.transforms as transforms # for processing datasets\n",
        "from torch.utils.data import DataLoader # for making dataset easier to use \n",
        "\n",
        "from matplotlib import pyplot as plt\n",
        "import numpy as np\n",
        "\n",
        "device = torch.device(\"cuda:0\" if torch.cuda.is_available() else \"cpu\")\n",
        "print(\"device: gpu\") if torch.cuda.is_available() else print(\"device: cpu\")\n",
        "\n",
        "# hypter parameter setting\n",
        "learning_rate = 1e-4\n",
        "training_epochs = 100\n",
        "display_step = 10\n",
        "batch_size = 32\n",
        "momentum = 0.9\n",
        "\n",
        "dropout_rate = 0.3\n",
        "activation = nn.ReLU()\n",
        "max_pool = nn.MaxPool2d(2,2) # kerel size, stride size, padding size \n",
        "\n",
        "# load data\n",
        "train_data = dataset.CIFAR10(\"./\", train = True, transform = transforms.ToTensor(), target_transform = None, download = True)\n",
        "test_data = dataset.CIFAR10(\"./\", train = False, transform = transforms.ToTensor(), target_transform = None, download = True)\n",
        "\n",
        "# check the data\n",
        "print('len(train_data): ', len(train_data))\n",
        "print('len(test_data): ', len(test_data))\n",
        "\n",
        "x_train, y_train = train_data[0]\n",
        "x_train = np.transpose(x_train, (1, 2, 0))\n",
        "\n",
        "print('data', x_train)\n",
        "print('data shape: ', x_train.shape)\n",
        "print('label: ', y_train)\n",
        "\n",
        "plt.figure()\n",
        "plt.imshow(x_train)\n",
        "plt.show()"
      ],
      "execution_count": 0,
      "outputs": [
        {
          "output_type": "stream",
          "text": [
            "device: gpu\n",
            "Files already downloaded and verified\n",
            "Files already downloaded and verified\n",
            "len(train_data):  50000\n",
            "len(test_data):  10000\n",
            "data tensor([[[0.2314, 0.2431, 0.2471],\n",
            "         [0.1686, 0.1804, 0.1765],\n",
            "         [0.1961, 0.1882, 0.1686],\n",
            "         ...,\n",
            "         [0.6196, 0.5176, 0.4235],\n",
            "         [0.5961, 0.4902, 0.4000],\n",
            "         [0.5804, 0.4863, 0.4039]],\n",
            "\n",
            "        [[0.0627, 0.0784, 0.0784],\n",
            "         [0.0000, 0.0000, 0.0000],\n",
            "         [0.0706, 0.0314, 0.0000],\n",
            "         ...,\n",
            "         [0.4824, 0.3451, 0.2157],\n",
            "         [0.4667, 0.3255, 0.1961],\n",
            "         [0.4784, 0.3412, 0.2235]],\n",
            "\n",
            "        [[0.0980, 0.0941, 0.0824],\n",
            "         [0.0627, 0.0275, 0.0000],\n",
            "         [0.1922, 0.1059, 0.0314],\n",
            "         ...,\n",
            "         [0.4627, 0.3294, 0.1961],\n",
            "         [0.4706, 0.3294, 0.1961],\n",
            "         [0.4275, 0.2863, 0.1647]],\n",
            "\n",
            "        ...,\n",
            "\n",
            "        [[0.8157, 0.6667, 0.3765],\n",
            "         [0.7882, 0.6000, 0.1333],\n",
            "         [0.7765, 0.6314, 0.1020],\n",
            "         ...,\n",
            "         [0.6275, 0.5216, 0.2745],\n",
            "         [0.2196, 0.1216, 0.0275],\n",
            "         [0.2078, 0.1333, 0.0784]],\n",
            "\n",
            "        [[0.7059, 0.5451, 0.3765],\n",
            "         [0.6784, 0.4824, 0.1647],\n",
            "         [0.7294, 0.5647, 0.1176],\n",
            "         ...,\n",
            "         [0.7216, 0.5804, 0.3686],\n",
            "         [0.3804, 0.2431, 0.1333],\n",
            "         [0.3255, 0.2078, 0.1333]],\n",
            "\n",
            "        [[0.6941, 0.5647, 0.4549],\n",
            "         [0.6588, 0.5059, 0.3686],\n",
            "         [0.7020, 0.5569, 0.3412],\n",
            "         ...,\n",
            "         [0.8471, 0.7216, 0.5490],\n",
            "         [0.5922, 0.4627, 0.3294],\n",
            "         [0.4824, 0.3608, 0.2824]]])\n",
            "data shape:  torch.Size([32, 32, 3])\n",
            "label:  6\n"
          ],
          "name": "stdout"
        },
        {
          "output_type": "display_data",
          "data": {
            "image/png": "[encoded data removed]",
            "text/plain": [
              "<Figure size 432x288 with 1 Axes>"
            ]
          },
          "metadata": {
            "tags": [],
            "needs_background": "light"
          }
        }
      ]
    },
    {
      "cell_type": "code",
      "metadata": {
        "id": "wHYMdCgFKRo0",
        "colab_type": "code",
        "outputId": "7d2ca78f-42e5-4e91-867e-bf661d6972a5",
        "colab": {
          "base_uri": "https://localhost:8080/",
          "height": 317
        }
      },
      "source": [
        "# Pre-process (batch, shuffle)\n",
        "train_loader = torch.utils.data.DataLoader(train_data, batch_size = batch_size, shuffle = True, num_workers = 1, drop_last = True)\n",
        "test_loader = torch.utils.data.DataLoader(test_data, batch_size = batch_size, shuffle = True, num_workers = 1, drop_last = True)\n",
        "\n",
        "# check the data \n",
        "examples = enumerate(train_loader)\n",
        "batch_idx, (example_data, example_target) = next(examples)\n",
        "\n",
        "print('data shape:', example_data.shape)\n",
        "print('label:', example_target)\n",
        "\n",
        "check_image = example_data[0]\n",
        "check_image = np.transpose(check_image, (1, 2, 0))\n",
        "\n",
        "plt.figure()\n",
        "plt.imshow(check_image)\n",
        "plt.show()"
      ],
      "execution_count": 0,
      "outputs": [
        {
          "output_type": "stream",
          "text": [
            "data shape: torch.Size([32, 3, 32, 32])\n",
            "label: tensor([3, 5, 3, 5, 7, 7, 4, 5, 9, 5, 8, 5, 7, 0, 5, 5, 5, 5, 1, 9, 6, 0, 4, 3,\n",
            "        6, 3, 9, 5, 8, 1, 2, 5])\n"
          ],
          "name": "stdout"
        },
        {
          "output_type": "display_data",
          "data": {
            "image/png": "[encoded data removed]",
            "text/plain": [
              "<Figure size 432x288 with 1 Axes>"
            ]
          },
          "metadata": {
            "tags": [],
            "needs_background": "light"
          }
        }
      ]
    },
    {
      "cell_type": "code",
      "metadata": {
        "id": "yZzq8FHQKSD7",
        "colab_type": "code",
        "outputId": "0ed51b2c-13ec-4c14-aa86-20e6ff4faa04",
        "colab": {
          "base_uri": "https://localhost:8080/",
          "height": 34
        }
      },
      "source": [
        "class CNN(nn.Module):\n",
        "    def __init__(self):\n",
        "        super(CNN, self).__init__() # for initializing nn.Module (parent class)\n",
        "        self.feature_extraction = nn.Sequential(\n",
        "            nn.Conv2d(3, 64, 3,1,1), # number of input channel, number of output channel, kernel size   \n",
        "            nn.BatchNorm2d(64),\n",
        "            activation,          # we can set stride size and padding size. if we do not set the these parameters, default value is 1, 0.\n",
        "            nn.Dropout(dropout_rate),\n",
        "            nn.Conv2d(64, 64,3,1,1),\n",
        "            nn.BatchNorm2d(64),\n",
        "            activation,\n",
        "            nn.Dropout(dropout_rate), \n",
        "            # max_pool, # 16\n",
        "\n",
        "            nn.Conv2d(64,128,3,1,1),\n",
        "            nn.BatchNorm2d(128),\n",
        "            activation,\n",
        "            nn.Dropout(dropout_rate),\n",
        "            nn.Conv2d(128,128,3,1,1),\n",
        "            nn.BatchNorm2d(128),\n",
        "            activation,\n",
        "            nn.Dropout(dropout_rate),\n",
        "            max_pool, # 8\n",
        "\n",
        "            nn.Conv2d(128,256,3,1,1),\n",
        "            nn.BatchNorm2d(256),\n",
        "            activation,\n",
        "            nn.Dropout(dropout_rate),\n",
        "            nn.Conv2d(256,256,3,1,1),\n",
        "            nn.BatchNorm2d(256),\n",
        "            activation,\n",
        "            nn.Dropout(dropout_rate),\n",
        "            nn.Conv2d(256,256,3,1,1),\n",
        "            nn.BatchNorm2d(256),\n",
        "            activation,\n",
        "            nn.Dropout(dropout_rate),\n",
        "            nn.Conv2d(256,256,3,1,1),\n",
        "            nn.BatchNorm2d(256),\n",
        "            activation,\n",
        "            nn.Dropout(dropout_rate),\n",
        "            max_pool, # 4\n",
        "\n",
        "            nn.Conv2d(256,512,3,1,1),\n",
        "            nn.BatchNorm2d(512),\n",
        "            activation,\n",
        "            nn.Dropout(dropout_rate),\n",
        "            nn.Conv2d(512,512,3,1,1),\n",
        "            nn.BatchNorm2d(512),\n",
        "            activation,\n",
        "            nn.Dropout(dropout_rate),\n",
        "            nn.Conv2d(512,512,3,1,1),\n",
        "            nn.BatchNorm2d(512),\n",
        "            activation,\n",
        "            nn.Dropout(dropout_rate),\n",
        "            nn.Conv2d(512,512,3,1,1),\n",
        "            nn.BatchNorm2d(512),\n",
        "            activation,\n",
        "            nn.Dropout(dropout_rate),\n",
        "            # max_pool, #2\n",
        "\n",
        "            nn.Conv2d(512,512,3,1,1),\n",
        "            nn.BatchNorm2d(512),\n",
        "            activation,\n",
        "            nn.Dropout(dropout_rate),\n",
        "            nn.Conv2d(512,512,3,1,1),\n",
        "            nn.BatchNorm2d(512),\n",
        "            activation,\n",
        "            nn.Dropout(dropout_rate),\n",
        "            nn.Conv2d(512,512,3,1,1),\n",
        "            nn.BatchNorm2d(512),\n",
        "            activation,\n",
        "            nn.Dropout(dropout_rate),\n",
        "            nn.Conv2d(512,512,3,1,1),\n",
        "            nn.BatchNorm2d(512),\n",
        "            activation,\n",
        "            nn.Dropout(dropout_rate),\n",
        "            max_pool #1\n",
        "            )\n",
        "        self.classifier = nn.Sequential(\n",
        "            nn.Linear(512 * 4 * 4, 100),\n",
        "            nn.BatchNorm1d(100),\n",
        "            activation,\n",
        "            # nn.Dropout(dropout_rate),\n",
        "            # nn.Linear(4096, 4096),\n",
        "            # nn.BatchNorm1d(4096),\n",
        "            # activation,\n",
        "            # nn.Dropout(dropout_rate),\n",
        "            # nn.Linear(4096, 1000),\n",
        "            # nn.BatchNorm1d(1000),\n",
        "            # activation,\n",
        "            nn.Dropout(dropout_rate),\n",
        "            nn.Linear(100, 10)\n",
        "        )\n",
        "    def forward(self, x):\n",
        "        extracted_feature = self.feature_extraction(x) # [32, 64, 4, 4]\n",
        "        flatten = extracted_feature.view(batch_size, -1) # [32, 64 * 4 * 4]\n",
        "        result = self.classifier(flatten)\n",
        "        return result\n",
        "\n",
        "def init_weights(m):\n",
        "  if type(m) == nn.Linear:\n",
        "    torch.nn.init.xavier_uniform(m.weight)\n",
        "    m.bias.data.fill_(0.01)\n",
        "\n",
        "\n",
        "model = CNN().to(device)\n",
        "model.apply(init_weights)\n",
        "model.train()\n",
        "loss_function = nn.CrossEntropyLoss()\n",
        "optimizer = optim.Adam(model.parameters(), lr = learning_rate)"
      ],
      "execution_count": 0,
      "outputs": [
        {
          "output_type": "stream",
          "text": [
            "/usr/local/lib/python3.6/dist-packages/ipykernel_launcher.py:102: UserWarning: nn.init.xavier_uniform is now deprecated in favor of nn.init.xavier_uniform_.\n"
          ],
          "name": "stderr"
        }
      ]
    },
    {
      "cell_type": "code",
      "metadata": {
        "id": "dGWSXrywKXJ6",
        "colab_type": "code",
        "outputId": "cffb51a0-1e53-4c28-fe6c-95d90e501661",
        "colab": {
          "base_uri": "https://localhost:8080/",
          "height": 258
        }
      },
      "source": [
        "scheduler = optim.lr_scheduler.StepLR(optimizer, step_size = 1, gamma = 0.99)\n",
        "\n",
        "loss_array = []\n",
        "\n",
        "# train the model\n",
        "for i in range(training_epochs+1):\n",
        "    scheduler.step()\n",
        "    for index, [data, label] in enumerate(train_loader):\n",
        "        data = data.to(device)\n",
        "        label = label.to(device)\n",
        "                \n",
        "        optimizer.zero_grad()\n",
        "        output = model.forward(data)\n",
        "        loss = loss_function(output, label)\n",
        "        loss.backward()\n",
        "        optimizer.step()\n",
        "        \n",
        "    if i % display_step == 0:\n",
        "        print('{} epoch loss: {}'.format(i,loss))\n",
        "        loss_array.append(loss.cpu().detach().numpy())"
      ],
      "execution_count": 0,
      "outputs": [
        {
          "output_type": "stream",
          "text": [
            "/usr/local/lib/python3.6/dist-packages/torch/optim/lr_scheduler.py:123: UserWarning: Detected call of `lr_scheduler.step()` before `optimizer.step()`. In PyTorch 1.1.0 and later, you should call them in the opposite order: `optimizer.step()` before `lr_scheduler.step()`.  Failure to do this will result in PyTorch skipping the first value of the learning rate schedule. See more details at https://pytorch.org/docs/stable/optim.html#how-to-adjust-learning-rate\n",
            "  \"https://pytorch.org/docs/stable/optim.html#how-to-adjust-learning-rate\", UserWarning)\n"
          ],
          "name": "stderr"
        },
        {
          "output_type": "stream",
          "text": [
            "0 epoch loss: 1.661881446838379\n",
            "10 epoch loss: 0.4855481684207916\n",
            "20 epoch loss: 0.15928326547145844\n",
            "30 epoch loss: 0.11615090817213058\n",
            "40 epoch loss: 0.08162607997655869\n",
            "50 epoch loss: 0.03321164846420288\n",
            "60 epoch loss: 0.005441710352897644\n",
            "70 epoch loss: 0.00864669680595398\n",
            "80 epoch loss: 0.02957656979560852\n",
            "90 epoch loss: 0.0021055787801742554\n",
            "100 epoch loss: 0.0011740028858184814\n"
          ],
          "name": "stdout"
        }
      ]
    },
    {
      "cell_type": "code",
      "metadata": {
        "id": "g6FwSyo8KYx-",
        "colab_type": "code",
        "outputId": "269bd28d-aa29-4f52-c6da-316b9aa77c33",
        "colab": {
          "base_uri": "https://localhost:8080/",
          "height": 265
        }
      },
      "source": [
        "plt.figure()\n",
        "plt.plot(loss_array)\n",
        "plt.show()"
      ],
      "execution_count": 0,
      "outputs": [
        {
          "output_type": "display_data",
          "data": {
            "image/png": "[encoded data removed]",
            "text/plain": [
              "<Figure size 432x288 with 1 Axes>"
            ]
          },
          "metadata": {
            "tags": [],
            "needs_background": "light"
          }
        }
      ]
    },
    {
      "cell_type": "code",
      "metadata": {
        "id": "FJJeGKPKKZeL",
        "colab_type": "code",
        "outputId": "49a842cb-bf29-4f84-8ef0-f67df5e66b42",
        "colab": {
          "base_uri": "https://localhost:8080/",
          "height": 34
        }
      },
      "source": [
        "#test the model\n",
        "model.eval()\n",
        "correct = 0\n",
        "total = 0\n",
        "\n",
        "prediction_list = []\n",
        "label_list = []\n",
        "\n",
        "with torch.no_grad():\n",
        "    for index, [data, label] in enumerate(test_loader):\n",
        "        data = data.to(device)\n",
        "        label = label.to(device)\n",
        "        \n",
        "        output = model.forward(data)\n",
        "        _, prediction_index = torch.max(output, 1)\n",
        "        \n",
        "        prediction_list.append(prediction_index)\n",
        "        label_list.append(label)\n",
        "        \n",
        "        total += label.size(0)\n",
        "        correct += (prediction_index == label).sum().float()\n",
        "\n",
        "        test_accuracy = correct/total\n",
        "\n",
        "    print(\"Test accuracy: {}\".format(test_accuracy))\n",
        "    # Test accuracy: 0.8232171535491943"
      ],
      "execution_count": 0,
      "outputs": [
        {
          "output_type": "stream",
          "text": [
            "Test accuracy: 0.8865184187889099\n"
          ],
          "name": "stdout"
        }
      ]
    },
    {
      "cell_type": "code",
      "metadata": {
        "id": "HaiJol4iOIk0",
        "colab_type": "code",
        "colab": {}
      },
      "source": [
        ""
      ],
      "execution_count": 0,
      "outputs": []
    }
  ]
}